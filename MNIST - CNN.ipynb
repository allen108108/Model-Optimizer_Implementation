{
 "cells": [
  {
   "cell_type": "code",
   "execution_count": 1,
   "metadata": {},
   "outputs": [
    {
     "name": "stderr",
     "output_type": "stream",
     "text": [
      "Using TensorFlow backend.\n"
     ]
    }
   ],
   "source": [
    "import numpy as np\n",
    "import pandas as pd\n",
    "import matplotlib.pyplot as plt\n",
    "\n",
    "from sklearn.model_selection import train_test_split\n",
    "\n",
    "from keras.datasets import mnist\n",
    "from keras.preprocessing.image import ImageDataGenerator\n",
    "from keras.callbacks import ReduceLROnPlateau\n",
    "\n",
    "from keras.utils import to_categorical\n",
    "from keras import layers\n",
    "from keras import models\n",
    "from keras import optimizers"
   ]
  },
  {
   "cell_type": "code",
   "execution_count": 2,
   "metadata": {},
   "outputs": [
    {
     "name": "stdout",
     "output_type": "stream",
     "text": [
      "The Train Data shape : (60000, 28, 28)\n",
      "The Test Data shape : (10000, 28, 28)\n"
     ]
    }
   ],
   "source": [
    "(train_data,train_label),(test_data,test_label)=mnist.load_data()\n",
    "\n",
    "print(f'The Train Data shape : {train_data.shape}')\n",
    "print(f'The Test Data shape : {test_data.shape}')"
   ]
  },
  {
   "cell_type": "code",
   "execution_count": 3,
   "metadata": {},
   "outputs": [],
   "source": [
    "train_data = train_data.reshape(-1,28,28,1).astype('float32')/255\n",
    "test_data = test_data.reshape(-1,28,28,1).astype('float32')/255"
   ]
  },
  {
   "cell_type": "code",
   "execution_count": 4,
   "metadata": {},
   "outputs": [],
   "source": [
    "train_label = to_categorical(train_label)\n",
    "test_label = to_categorical(test_label)"
   ]
  },
  {
   "cell_type": "code",
   "execution_count": 5,
   "metadata": {},
   "outputs": [],
   "source": [
    "train_data,val_data,train_label,val_label=train_test_split(train_data,train_label,test_size=0.25,random_state=13)"
   ]
  },
  {
   "cell_type": "code",
   "execution_count": 6,
   "metadata": {},
   "outputs": [],
   "source": [
    "train_datagen=ImageDataGenerator(rotation_range=15 , \n",
    "                             width_shift_range=0.2 , \n",
    "                             height_shift_range=0.2 ,\n",
    "                             shear_range=0.2 ,\n",
    "                             zoom_range=0.2 , \n",
    "                             data_format='channels_last')\n",
    "\n",
    "\n",
    "train_datagen.fit(train_data)\n",
    "\n",
    "LR_function=ReduceLROnPlateau(monitor='val_acc',\n",
    "                             patience=3,\n",
    "                             verbose=1,\n",
    "                             factor=0.5,\n",
    "                             min_lr=0.00001)"
   ]
  },
  {
   "cell_type": "code",
   "execution_count": 7,
   "metadata": {},
   "outputs": [],
   "source": [
    "model=models.Sequential()\n",
    "\n",
    "model.add(layers.Conv2D(32,(3,3),activation='relu',input_shape=(28,28,1)))\n",
    "model.add(layers.MaxPooling2D((2,2)))\n",
    "model.add(layers.Conv2D(64,(3,3),activation='relu'))\n",
    "model.add(layers.MaxPooling2D((2,2)))\n",
    "model.add(layers.Dropout(0.5))\n",
    "model.add(layers.Conv2D(64,(3,3),activation='relu'))\n",
    "\n",
    "model.add(layers.Flatten())\n",
    "model.add(layers.Dense(64,activation='relu'))\n",
    "model.add(layers.Dense(10,activation='softmax'))"
   ]
  },
  {
   "cell_type": "code",
   "execution_count": 8,
   "metadata": {},
   "outputs": [
    {
     "name": "stdout",
     "output_type": "stream",
     "text": [
      "_________________________________________________________________\n",
      "Layer (type)                 Output Shape              Param #   \n",
      "=================================================================\n",
      "conv2d_1 (Conv2D)            (None, 26, 26, 32)        320       \n",
      "_________________________________________________________________\n",
      "max_pooling2d_1 (MaxPooling2 (None, 13, 13, 32)        0         \n",
      "_________________________________________________________________\n",
      "conv2d_2 (Conv2D)            (None, 11, 11, 64)        18496     \n",
      "_________________________________________________________________\n",
      "max_pooling2d_2 (MaxPooling2 (None, 5, 5, 64)          0         \n",
      "_________________________________________________________________\n",
      "dropout_1 (Dropout)          (None, 5, 5, 64)          0         \n",
      "_________________________________________________________________\n",
      "conv2d_3 (Conv2D)            (None, 3, 3, 64)          36928     \n",
      "_________________________________________________________________\n",
      "flatten_1 (Flatten)          (None, 576)               0         \n",
      "_________________________________________________________________\n",
      "dense_1 (Dense)              (None, 64)                36928     \n",
      "_________________________________________________________________\n",
      "dense_2 (Dense)              (None, 10)                650       \n",
      "=================================================================\n",
      "Total params: 93,322\n",
      "Trainable params: 93,322\n",
      "Non-trainable params: 0\n",
      "_________________________________________________________________\n"
     ]
    }
   ],
   "source": [
    "model.summary()"
   ]
  },
  {
   "cell_type": "code",
   "execution_count": 9,
   "metadata": {},
   "outputs": [],
   "source": [
    "model.compile(optimizer='Adam' , loss='categorical_crossentropy' , metrics=['accuracy'])"
   ]
  },
  {
   "cell_type": "code",
   "execution_count": 10,
   "metadata": {
    "scrolled": false
   },
   "outputs": [
    {
     "name": "stdout",
     "output_type": "stream",
     "text": [
      "Epoch 1/100\n",
      "704/703 [==============================] - 13s 19ms/step - loss: 0.8713 - acc: 0.7050 - val_loss: 0.1596 - val_acc: 0.9538\n",
      "Epoch 2/100\n",
      "704/703 [==============================] - 10s 15ms/step - loss: 0.3560 - acc: 0.8886 - val_loss: 0.1008 - val_acc: 0.9699\n",
      "Epoch 3/100\n",
      "704/703 [==============================] - 10s 15ms/step - loss: 0.2645 - acc: 0.9169 - val_loss: 0.0765 - val_acc: 0.9767\n",
      "Epoch 4/100\n",
      "704/703 [==============================] - 10s 15ms/step - loss: 0.2210 - acc: 0.9314 - val_loss: 0.0603 - val_acc: 0.9791\n",
      "Epoch 5/100\n",
      "704/703 [==============================] - 10s 15ms/step - loss: 0.1949 - acc: 0.9404 - val_loss: 0.0554 - val_acc: 0.9819\n",
      "Epoch 6/100\n",
      "704/703 [==============================] - 10s 15ms/step - loss: 0.1724 - acc: 0.9460 - val_loss: 0.0604 - val_acc: 0.9805\n",
      "Epoch 7/100\n",
      "704/703 [==============================] - 10s 15ms/step - loss: 0.1547 - acc: 0.9506 - val_loss: 0.0448 - val_acc: 0.9853\n",
      "Epoch 8/100\n",
      "704/703 [==============================] - 10s 15ms/step - loss: 0.1506 - acc: 0.9532 - val_loss: 0.0474 - val_acc: 0.9850\n",
      "Epoch 9/100\n",
      "704/703 [==============================] - 10s 15ms/step - loss: 0.1400 - acc: 0.9560 - val_loss: 0.0512 - val_acc: 0.9851\n",
      "Epoch 10/100\n",
      "704/703 [==============================] - 10s 15ms/step - loss: 0.1295 - acc: 0.9601 - val_loss: 0.0346 - val_acc: 0.9901\n",
      "Epoch 11/100\n",
      "704/703 [==============================] - 11s 15ms/step - loss: 0.1270 - acc: 0.9598 - val_loss: 0.0416 - val_acc: 0.9869\n",
      "Epoch 12/100\n",
      "704/703 [==============================] - 10s 15ms/step - loss: 0.1248 - acc: 0.9604 - val_loss: 0.0366 - val_acc: 0.9880\n",
      "Epoch 13/100\n",
      "704/703 [==============================] - 10s 15ms/step - loss: 0.1163 - acc: 0.9639 - val_loss: 0.0373 - val_acc: 0.9876\n",
      "\n",
      "Epoch 00013: ReduceLROnPlateau reducing learning rate to 0.0005000000237487257.\n",
      "Epoch 14/100\n",
      "704/703 [==============================] - 10s 15ms/step - loss: 0.1025 - acc: 0.9680 - val_loss: 0.0365 - val_acc: 0.9886\n",
      "Epoch 15/100\n",
      "704/703 [==============================] - 10s 15ms/step - loss: 0.1045 - acc: 0.9675 - val_loss: 0.0301 - val_acc: 0.9905\n",
      "Epoch 16/100\n",
      "704/703 [==============================] - 10s 15ms/step - loss: 0.0952 - acc: 0.9705 - val_loss: 0.0284 - val_acc: 0.9911\n",
      "Epoch 17/100\n",
      "704/703 [==============================] - 10s 15ms/step - loss: 0.0930 - acc: 0.9705 - val_loss: 0.0310 - val_acc: 0.9904\n",
      "Epoch 18/100\n",
      "704/703 [==============================] - 10s 15ms/step - loss: 0.0927 - acc: 0.9705 - val_loss: 0.0278 - val_acc: 0.9911\n",
      "Epoch 19/100\n",
      "704/703 [==============================] - 10s 15ms/step - loss: 0.0924 - acc: 0.9717 - val_loss: 0.0303 - val_acc: 0.9905\n",
      "\n",
      "Epoch 00019: ReduceLROnPlateau reducing learning rate to 0.0002500000118743628.\n",
      "Epoch 20/100\n",
      "704/703 [==============================] - 10s 15ms/step - loss: 0.0856 - acc: 0.9729 - val_loss: 0.0311 - val_acc: 0.9908\n",
      "Epoch 21/100\n",
      "704/703 [==============================] - 10s 15ms/step - loss: 0.0829 - acc: 0.9751 - val_loss: 0.0282 - val_acc: 0.9913\n",
      "Epoch 22/100\n",
      "704/703 [==============================] - 11s 15ms/step - loss: 0.0854 - acc: 0.9731 - val_loss: 0.0285 - val_acc: 0.9909\n",
      "Epoch 23/100\n",
      "704/703 [==============================] - 10s 15ms/step - loss: 0.0794 - acc: 0.9747 - val_loss: 0.0283 - val_acc: 0.9911\n",
      "Epoch 24/100\n",
      "704/703 [==============================] - 10s 15ms/step - loss: 0.0790 - acc: 0.9743 - val_loss: 0.0256 - val_acc: 0.9917\n",
      "Epoch 25/100\n",
      "704/703 [==============================] - 11s 15ms/step - loss: 0.0766 - acc: 0.9748 - val_loss: 0.0265 - val_acc: 0.9913\n",
      "Epoch 26/100\n",
      "704/703 [==============================] - 11s 15ms/step - loss: 0.0809 - acc: 0.9741 - val_loss: 0.0268 - val_acc: 0.9920\n",
      "Epoch 27/100\n",
      "704/703 [==============================] - 10s 15ms/step - loss: 0.0789 - acc: 0.9744 - val_loss: 0.0271 - val_acc: 0.9915\n",
      "Epoch 28/100\n",
      "704/703 [==============================] - 10s 15ms/step - loss: 0.0767 - acc: 0.9751 - val_loss: 0.0259 - val_acc: 0.9923\n",
      "Epoch 29/100\n",
      "704/703 [==============================] - 10s 15ms/step - loss: 0.0779 - acc: 0.9748 - val_loss: 0.0264 - val_acc: 0.9921\n",
      "Epoch 30/100\n",
      "704/703 [==============================] - 10s 15ms/step - loss: 0.0762 - acc: 0.9764 - val_loss: 0.0275 - val_acc: 0.9918\n",
      "Epoch 31/100\n",
      "704/703 [==============================] - 10s 15ms/step - loss: 0.0724 - acc: 0.9774 - val_loss: 0.0286 - val_acc: 0.9913\n",
      "\n",
      "Epoch 00031: ReduceLROnPlateau reducing learning rate to 0.0001250000059371814.\n",
      "Epoch 32/100\n",
      "704/703 [==============================] - 10s 15ms/step - loss: 0.0746 - acc: 0.9770 - val_loss: 0.0256 - val_acc: 0.9920\n",
      "Epoch 33/100\n",
      "704/703 [==============================] - 10s 15ms/step - loss: 0.0699 - acc: 0.9782 - val_loss: 0.0248 - val_acc: 0.9925\n",
      "Epoch 34/100\n",
      "704/703 [==============================] - 10s 15ms/step - loss: 0.0722 - acc: 0.9778 - val_loss: 0.0258 - val_acc: 0.9922\n",
      "Epoch 35/100\n",
      "704/703 [==============================] - 11s 15ms/step - loss: 0.0707 - acc: 0.9776 - val_loss: 0.0247 - val_acc: 0.9924\n",
      "Epoch 36/100\n",
      "704/703 [==============================] - 11s 15ms/step - loss: 0.0681 - acc: 0.9779 - val_loss: 0.0269 - val_acc: 0.9919\n",
      "\n",
      "Epoch 00036: ReduceLROnPlateau reducing learning rate to 6.25000029685907e-05.\n",
      "Epoch 37/100\n",
      "704/703 [==============================] - 10s 15ms/step - loss: 0.0691 - acc: 0.9776 - val_loss: 0.0288 - val_acc: 0.9922\n",
      "Epoch 38/100\n",
      "704/703 [==============================] - 11s 15ms/step - loss: 0.0667 - acc: 0.9782 - val_loss: 0.0277 - val_acc: 0.9920\n",
      "Epoch 39/100\n",
      "704/703 [==============================] - 10s 15ms/step - loss: 0.0668 - acc: 0.9784 - val_loss: 0.0248 - val_acc: 0.9926\n",
      "Epoch 40/100\n",
      "704/703 [==============================] - 10s 15ms/step - loss: 0.0662 - acc: 0.9789 - val_loss: 0.0239 - val_acc: 0.9928\n",
      "Epoch 41/100\n",
      "704/703 [==============================] - 10s 15ms/step - loss: 0.0667 - acc: 0.9786 - val_loss: 0.0249 - val_acc: 0.9925\n",
      "Epoch 42/100\n",
      "704/703 [==============================] - 10s 15ms/step - loss: 0.0672 - acc: 0.9790 - val_loss: 0.0241 - val_acc: 0.9929\n",
      "Epoch 43/100\n",
      "704/703 [==============================] - 10s 15ms/step - loss: 0.0656 - acc: 0.9798 - val_loss: 0.0250 - val_acc: 0.9927\n",
      "\n",
      "Epoch 00043: ReduceLROnPlateau reducing learning rate to 3.125000148429535e-05.\n",
      "Epoch 44/100\n",
      "704/703 [==============================] - 10s 15ms/step - loss: 0.0668 - acc: 0.9788 - val_loss: 0.0246 - val_acc: 0.9929\n",
      "Epoch 45/100\n",
      "704/703 [==============================] - 10s 15ms/step - loss: 0.0643 - acc: 0.9793 - val_loss: 0.0255 - val_acc: 0.9925\n",
      "Epoch 46/100\n",
      "704/703 [==============================] - 10s 15ms/step - loss: 0.0677 - acc: 0.9789 - val_loss: 0.0247 - val_acc: 0.9928\n",
      "\n",
      "Epoch 00046: ReduceLROnPlateau reducing learning rate to 1.5625000742147677e-05.\n",
      "Epoch 47/100\n",
      "704/703 [==============================] - 10s 15ms/step - loss: 0.0662 - acc: 0.9792 - val_loss: 0.0249 - val_acc: 0.9928\n",
      "Epoch 48/100\n",
      "704/703 [==============================] - 10s 15ms/step - loss: 0.0648 - acc: 0.9800 - val_loss: 0.0252 - val_acc: 0.9927\n",
      "Epoch 49/100\n",
      "704/703 [==============================] - 11s 15ms/step - loss: 0.0627 - acc: 0.9801 - val_loss: 0.0245 - val_acc: 0.9927\n",
      "\n",
      "Epoch 00049: ReduceLROnPlateau reducing learning rate to 1e-05.\n",
      "Epoch 50/100\n",
      "704/703 [==============================] - 10s 15ms/step - loss: 0.0629 - acc: 0.9802 - val_loss: 0.0244 - val_acc: 0.9927\n",
      "Epoch 51/100\n",
      "704/703 [==============================] - 10s 15ms/step - loss: 0.0636 - acc: 0.9805 - val_loss: 0.0245 - val_acc: 0.9926\n",
      "Epoch 52/100\n",
      "704/703 [==============================] - 10s 15ms/step - loss: 0.0646 - acc: 0.9794 - val_loss: 0.0253 - val_acc: 0.9925\n",
      "Epoch 53/100\n",
      "704/703 [==============================] - 10s 15ms/step - loss: 0.0645 - acc: 0.9800 - val_loss: 0.0256 - val_acc: 0.9925\n",
      "Epoch 54/100\n",
      "704/703 [==============================] - 10s 15ms/step - loss: 0.0672 - acc: 0.9782 - val_loss: 0.0252 - val_acc: 0.9923\n",
      "Epoch 55/100\n",
      "704/703 [==============================] - 10s 15ms/step - loss: 0.0657 - acc: 0.9796 - val_loss: 0.0246 - val_acc: 0.9927\n",
      "Epoch 56/100\n",
      "704/703 [==============================] - 11s 15ms/step - loss: 0.0651 - acc: 0.9794 - val_loss: 0.0250 - val_acc: 0.9925\n",
      "Epoch 57/100\n",
      "704/703 [==============================] - 11s 16ms/step - loss: 0.0626 - acc: 0.9800 - val_loss: 0.0247 - val_acc: 0.9927\n",
      "Epoch 58/100\n",
      "704/703 [==============================] - 10s 15ms/step - loss: 0.0677 - acc: 0.9788 - val_loss: 0.0252 - val_acc: 0.9926\n",
      "Epoch 59/100\n",
      "704/703 [==============================] - 10s 15ms/step - loss: 0.0677 - acc: 0.9784 - val_loss: 0.0245 - val_acc: 0.9925\n",
      "Epoch 60/100\n",
      "704/703 [==============================] - 10s 15ms/step - loss: 0.0653 - acc: 0.9798 - val_loss: 0.0246 - val_acc: 0.9928\n",
      "Epoch 61/100\n",
      "704/703 [==============================] - 10s 15ms/step - loss: 0.0625 - acc: 0.9802 - val_loss: 0.0244 - val_acc: 0.9926\n",
      "Epoch 62/100\n",
      "704/703 [==============================] - 10s 15ms/step - loss: 0.0643 - acc: 0.9793 - val_loss: 0.0240 - val_acc: 0.9925\n",
      "Epoch 63/100\n",
      "704/703 [==============================] - 10s 15ms/step - loss: 0.0657 - acc: 0.9792 - val_loss: 0.0253 - val_acc: 0.9925\n",
      "Epoch 64/100\n",
      "704/703 [==============================] - 10s 15ms/step - loss: 0.0660 - acc: 0.9795 - val_loss: 0.0256 - val_acc: 0.9925\n",
      "Epoch 65/100\n",
      "704/703 [==============================] - 10s 15ms/step - loss: 0.0664 - acc: 0.9791 - val_loss: 0.0243 - val_acc: 0.9925\n",
      "Epoch 66/100\n",
      "704/703 [==============================] - 10s 15ms/step - loss: 0.0624 - acc: 0.9807 - val_loss: 0.0238 - val_acc: 0.9929\n",
      "Epoch 67/100\n",
      "704/703 [==============================] - 11s 15ms/step - loss: 0.0659 - acc: 0.9793 - val_loss: 0.0244 - val_acc: 0.9927\n",
      "Epoch 68/100\n",
      "704/703 [==============================] - 11s 15ms/step - loss: 0.0652 - acc: 0.9796 - val_loss: 0.0244 - val_acc: 0.9927\n",
      "Epoch 69/100\n",
      "704/703 [==============================] - 10s 15ms/step - loss: 0.0634 - acc: 0.9803 - val_loss: 0.0242 - val_acc: 0.9927\n",
      "Epoch 70/100\n",
      "704/703 [==============================] - 10s 15ms/step - loss: 0.0641 - acc: 0.9797 - val_loss: 0.0251 - val_acc: 0.9923\n",
      "Epoch 71/100\n",
      "704/703 [==============================] - 10s 15ms/step - loss: 0.0646 - acc: 0.9799 - val_loss: 0.0244 - val_acc: 0.9926\n",
      "Epoch 72/100\n",
      "704/703 [==============================] - 11s 15ms/step - loss: 0.0649 - acc: 0.9788 - val_loss: 0.0248 - val_acc: 0.9924\n",
      "Epoch 73/100\n",
      "704/703 [==============================] - 10s 15ms/step - loss: 0.0631 - acc: 0.9801 - val_loss: 0.0244 - val_acc: 0.9927\n",
      "Epoch 74/100\n",
      "704/703 [==============================] - 10s 15ms/step - loss: 0.0657 - acc: 0.9795 - val_loss: 0.0251 - val_acc: 0.9925\n",
      "Epoch 75/100\n",
      "704/703 [==============================] - 10s 15ms/step - loss: 0.0628 - acc: 0.9807 - val_loss: 0.0245 - val_acc: 0.9927\n",
      "Epoch 76/100\n",
      "704/703 [==============================] - 10s 15ms/step - loss: 0.0640 - acc: 0.9794 - val_loss: 0.0251 - val_acc: 0.9923\n",
      "Epoch 77/100\n",
      "704/703 [==============================] - 10s 15ms/step - loss: 0.0653 - acc: 0.9804 - val_loss: 0.0244 - val_acc: 0.9925\n",
      "Epoch 78/100\n",
      "704/703 [==============================] - 10s 15ms/step - loss: 0.0641 - acc: 0.9806 - val_loss: 0.0250 - val_acc: 0.9925\n",
      "Epoch 79/100\n",
      "704/703 [==============================] - 10s 15ms/step - loss: 0.0648 - acc: 0.9796 - val_loss: 0.0249 - val_acc: 0.9925\n",
      "Epoch 80/100\n",
      "704/703 [==============================] - 10s 15ms/step - loss: 0.0642 - acc: 0.9801 - val_loss: 0.0249 - val_acc: 0.9925\n",
      "Epoch 81/100\n",
      "704/703 [==============================] - 10s 15ms/step - loss: 0.0614 - acc: 0.9806 - val_loss: 0.0242 - val_acc: 0.9927\n",
      "Epoch 82/100\n",
      "704/703 [==============================] - 10s 15ms/step - loss: 0.0643 - acc: 0.9794 - val_loss: 0.0251 - val_acc: 0.9924\n",
      "Epoch 83/100\n",
      "704/703 [==============================] - 11s 15ms/step - loss: 0.0618 - acc: 0.9807 - val_loss: 0.0241 - val_acc: 0.9926\n",
      "Epoch 84/100\n",
      "704/703 [==============================] - 11s 15ms/step - loss: 0.0631 - acc: 0.9799 - val_loss: 0.0248 - val_acc: 0.9925\n",
      "Epoch 85/100\n",
      "704/703 [==============================] - 10s 15ms/step - loss: 0.0656 - acc: 0.9794 - val_loss: 0.0248 - val_acc: 0.9926\n",
      "Epoch 86/100\n",
      "704/703 [==============================] - 10s 15ms/step - loss: 0.0608 - acc: 0.9807 - val_loss: 0.0244 - val_acc: 0.9925\n",
      "Epoch 87/100\n",
      "704/703 [==============================] - 10s 15ms/step - loss: 0.0673 - acc: 0.9792 - val_loss: 0.0247 - val_acc: 0.9925\n",
      "Epoch 88/100\n",
      "704/703 [==============================] - 10s 15ms/step - loss: 0.0653 - acc: 0.9792 - val_loss: 0.0241 - val_acc: 0.9925\n",
      "Epoch 89/100\n",
      "704/703 [==============================] - 10s 15ms/step - loss: 0.0649 - acc: 0.9793 - val_loss: 0.0242 - val_acc: 0.9925\n",
      "Epoch 90/100\n",
      "704/703 [==============================] - 10s 15ms/step - loss: 0.0651 - acc: 0.9798 - val_loss: 0.0247 - val_acc: 0.9925\n",
      "Epoch 91/100\n",
      "704/703 [==============================] - 10s 15ms/step - loss: 0.0656 - acc: 0.9798 - val_loss: 0.0247 - val_acc: 0.9922\n",
      "Epoch 92/100\n",
      "704/703 [==============================] - 10s 15ms/step - loss: 0.0632 - acc: 0.9802 - val_loss: 0.0242 - val_acc: 0.9926\n",
      "Epoch 93/100\n",
      "704/703 [==============================] - 10s 15ms/step - loss: 0.0646 - acc: 0.9799 - val_loss: 0.0247 - val_acc: 0.9923\n",
      "Epoch 94/100\n",
      "704/703 [==============================] - 10s 15ms/step - loss: 0.0620 - acc: 0.9808 - val_loss: 0.0245 - val_acc: 0.9925\n",
      "Epoch 95/100\n",
      "704/703 [==============================] - 11s 15ms/step - loss: 0.0654 - acc: 0.9792 - val_loss: 0.0242 - val_acc: 0.9925\n",
      "Epoch 96/100\n",
      "704/703 [==============================] - 10s 15ms/step - loss: 0.0609 - acc: 0.9813 - val_loss: 0.0240 - val_acc: 0.9927\n",
      "Epoch 97/100\n",
      "704/703 [==============================] - 10s 15ms/step - loss: 0.0629 - acc: 0.9801 - val_loss: 0.0248 - val_acc: 0.9925\n",
      "Epoch 98/100\n",
      "704/703 [==============================] - 10s 15ms/step - loss: 0.0658 - acc: 0.9795 - val_loss: 0.0243 - val_acc: 0.9927\n",
      "Epoch 99/100\n",
      "704/703 [==============================] - 10s 15ms/step - loss: 0.0613 - acc: 0.9805 - val_loss: 0.0244 - val_acc: 0.9925\n",
      "Epoch 100/100\n",
      "704/703 [==============================] - 10s 15ms/step - loss: 0.0647 - acc: 0.9806 - val_loss: 0.0244 - val_acc: 0.9927\n"
     ]
    }
   ],
   "source": [
    "history = model.fit_generator(train_datagen.flow(train_data,train_label,batch_size=64), \n",
    "                              steps_per_epoch=train_data.shape[0]/64 , epochs=100,validation_data=(val_data,val_label),validation_steps=val_data.shape[0]/64,callbacks=[LR_function])"
   ]
  },
  {
   "cell_type": "code",
   "execution_count": 11,
   "metadata": {},
   "outputs": [
    {
     "name": "stdout",
     "output_type": "stream",
     "text": [
      "10000/10000 [==============================] - 1s 54us/step\n",
      "The Accuracy on Test Data = 0.9948\n"
     ]
    }
   ],
   "source": [
    "loss,acc=model.evaluate(test_data,test_label)\n",
    "print(f'The Accuracy on Test Data = {acc}')"
   ]
  },
  {
   "cell_type": "code",
   "execution_count": 12,
   "metadata": {},
   "outputs": [
    {
     "data": {
      "image/png": "[encoded data removed]",
      "text/plain": [
       "<Figure size 432x288 with 1 Axes>"
      ]
     },
     "metadata": {
      "needs_background": "light"
     },
     "output_type": "display_data"
    }
   ],
   "source": [
    "acc = history.history['acc']\n",
    "loss = history.history['loss']\n",
    "val_acc=history.history['val_acc']\n",
    "val_loss=history.history['val_loss']\n",
    "\n",
    "epochs=range(100)\n",
    "\n",
    "plt.plot(epochs,acc,'r-',label='Training Accuracy')\n",
    "plt.plot(epochs,val_acc,'b-',label='Validation Accuracy')\n",
    "plt.title('Training and Validation Accuracy')\n",
    "plt.legend()\n",
    "\n",
    "plt.show()"
   ]
  },
  {
   "cell_type": "code",
   "execution_count": 13,
   "metadata": {},
   "outputs": [
    {
     "data": {
      "image/png": "[encoded data removed]",
      "text/plain": [
       "<Figure size 432x288 with 1 Axes>"
      ]
     },
     "metadata": {
      "needs_background": "light"
     },
     "output_type": "display_data"
    }
   ],
   "source": [
    "plt.plot(epochs,loss,'r-',label='Training Loss')\n",
    "plt.plot(epochs,val_loss,'b-',label='Validation Loss')\n",
    "plt.title('Training and Validation Loss')\n",
    "plt.legend()\n",
    "\n",
    "plt.show()"
   ]
  },
  {
   "cell_type": "code",
   "execution_count": null,
   "metadata": {},
   "outputs": [],
   "source": []
  }
 ],
 "metadata": {
  "kernelspec": {
   "display_name": "Python 3",
   "language": "python",
   "name": "python3"
  },
  "language_info": {
   "codemirror_mode": {
    "name": "ipython",
    "version": 3
   },
   "file_extension": ".py",
   "mimetype": "text/x-python",
   "name": "python",
   "nbconvert_exporter": "python",
   "pygments_lexer": "ipython3",
   "version": "3.6.8"
  }
 },
 "nbformat": 4,
 "nbformat_minor": 2
}
