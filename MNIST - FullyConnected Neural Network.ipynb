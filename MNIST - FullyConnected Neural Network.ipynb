{
 "cells": [
  {
   "cell_type": "code",
   "execution_count": 1,
   "metadata": {},
   "outputs": [
    {
     "name": "stderr",
     "output_type": "stream",
     "text": [
      "Using TensorFlow backend.\n"
     ]
    }
   ],
   "source": [
    "import numpy as np\n",
    "import pandas as pd\n",
    "import matplotlib.pyplot as plt\n",
    "\n",
    "from sklearn.model_selection import train_test_split\n",
    "\n",
    "from keras.datasets import mnist\n",
    "\n",
    "from keras.utils import to_categorical\n",
    "from keras import layers\n",
    "from keras import models\n",
    "from keras import optimizers"
   ]
  },
  {
   "cell_type": "code",
   "execution_count": 2,
   "metadata": {},
   "outputs": [
    {
     "name": "stdout",
     "output_type": "stream",
     "text": [
      "The Train Data shape : (60000, 28, 28)\n",
      "The Test Data shape : (10000, 28, 28)\n"
     ]
    }
   ],
   "source": [
    "(train_data,train_label),(test_data,test_label)=mnist.load_data()\n",
    "\n",
    "print(f'The Train Data shape : {train_data.shape}')\n",
    "print(f'The Test Data shape : {test_data.shape}')"
   ]
  },
  {
   "cell_type": "code",
   "execution_count": 3,
   "metadata": {},
   "outputs": [],
   "source": [
    "train_data = train_data.reshape((60000,28*28)).astype('float32')/255\n",
    "test_data = test_data.reshape((10000,28*28)).astype('float32')/255"
   ]
  },
  {
   "cell_type": "code",
   "execution_count": 4,
   "metadata": {},
   "outputs": [],
   "source": [
    "train_label = to_categorical(train_label)\n",
    "test_label = to_categorical(test_label)"
   ]
  },
  {
   "cell_type": "code",
   "execution_count": 5,
   "metadata": {},
   "outputs": [],
   "source": [
    "train_data,val_data,train_label,val_label=train_test_split(train_data,train_label,test_size=0.25,random_state=13)"
   ]
  },
  {
   "cell_type": "code",
   "execution_count": 6,
   "metadata": {},
   "outputs": [],
   "source": [
    "model=models.Sequential()\n",
    "\n",
    "model.add(layers.Dense(64,activation='relu',input_shape=(28*28,)))\n",
    "model.add(layers.Dense(512,activation='relu'))\n",
    "model.add(layers.Dense(16,activation='relu'))\n",
    "model.add(layers.Dense(10,activation='softmax'))"
   ]
  },
  {
   "cell_type": "code",
   "execution_count": 7,
   "metadata": {},
   "outputs": [
    {
     "name": "stdout",
     "output_type": "stream",
     "text": [
      "_________________________________________________________________\n",
      "Layer (type)                 Output Shape              Param #   \n",
      "=================================================================\n",
      "dense_1 (Dense)              (None, 64)                50240     \n",
      "_________________________________________________________________\n",
      "dense_2 (Dense)              (None, 512)               33280     \n",
      "_________________________________________________________________\n",
      "dense_3 (Dense)              (None, 16)                8208      \n",
      "_________________________________________________________________\n",
      "dense_4 (Dense)              (None, 10)                170       \n",
      "=================================================================\n",
      "Total params: 91,898\n",
      "Trainable params: 91,898\n",
      "Non-trainable params: 0\n",
      "_________________________________________________________________\n"
     ]
    }
   ],
   "source": [
    "model.summary()"
   ]
  },
  {
   "cell_type": "code",
   "execution_count": 8,
   "metadata": {},
   "outputs": [],
   "source": [
    "model.compile(optimizer='Adam' , loss='categorical_crossentropy' , metrics=['accuracy'])"
   ]
  },
  {
   "cell_type": "code",
   "execution_count": 9,
   "metadata": {},
   "outputs": [
    {
     "name": "stdout",
     "output_type": "stream",
     "text": [
      "Train on 45000 samples, validate on 15000 samples\n",
      "Epoch 1/100\n",
      "45000/45000 [==============================] - 33s 730us/step - loss: 0.4632 - acc: 0.8634 - val_loss: 0.2154 - val_acc: 0.9380\n",
      "Epoch 2/100\n",
      "45000/45000 [==============================] - 1s 26us/step - loss: 0.1678 - acc: 0.9502 - val_loss: 0.1492 - val_acc: 0.9565\n",
      "Epoch 3/100\n",
      "45000/45000 [==============================] - 1s 26us/step - loss: 0.1200 - acc: 0.9634 - val_loss: 0.1463 - val_acc: 0.9558\n",
      "Epoch 4/100\n",
      "45000/45000 [==============================] - 1s 28us/step - loss: 0.0973 - acc: 0.9704 - val_loss: 0.1221 - val_acc: 0.9641\n",
      "Epoch 5/100\n",
      "45000/45000 [==============================] - 1s 31us/step - loss: 0.0785 - acc: 0.9751 - val_loss: 0.1248 - val_acc: 0.9636\n",
      "Epoch 6/100\n",
      "45000/45000 [==============================] - 1s 29us/step - loss: 0.0640 - acc: 0.9798 - val_loss: 0.1139 - val_acc: 0.9665\n",
      "Epoch 7/100\n",
      "45000/45000 [==============================] - 1s 26us/step - loss: 0.0535 - acc: 0.9824 - val_loss: 0.1115 - val_acc: 0.9677\n",
      "Epoch 8/100\n",
      "45000/45000 [==============================] - 1s 26us/step - loss: 0.0448 - acc: 0.9858 - val_loss: 0.1285 - val_acc: 0.9661\n",
      "Epoch 9/100\n",
      "45000/45000 [==============================] - 1s 25us/step - loss: 0.0399 - acc: 0.9864 - val_loss: 0.1065 - val_acc: 0.9705\n",
      "Epoch 10/100\n",
      "45000/45000 [==============================] - 1s 26us/step - loss: 0.0334 - acc: 0.9890 - val_loss: 0.1093 - val_acc: 0.9713\n",
      "Epoch 11/100\n",
      "45000/45000 [==============================] - 1s 25us/step - loss: 0.0289 - acc: 0.9907 - val_loss: 0.1074 - val_acc: 0.9725\n",
      "Epoch 12/100\n",
      "45000/45000 [==============================] - 1s 29us/step - loss: 0.0242 - acc: 0.9921 - val_loss: 0.1296 - val_acc: 0.9695\n",
      "Epoch 13/100\n",
      "45000/45000 [==============================] - 1s 26us/step - loss: 0.0228 - acc: 0.9925 - val_loss: 0.1241 - val_acc: 0.9698\n",
      "Epoch 14/100\n",
      "45000/45000 [==============================] - 1s 26us/step - loss: 0.0230 - acc: 0.9927 - val_loss: 0.1086 - val_acc: 0.9744\n",
      "Epoch 15/100\n",
      "45000/45000 [==============================] - 1s 26us/step - loss: 0.0179 - acc: 0.9942 - val_loss: 0.1231 - val_acc: 0.9726\n",
      "Epoch 16/100\n",
      "45000/45000 [==============================] - 1s 26us/step - loss: 0.0162 - acc: 0.9948 - val_loss: 0.1356 - val_acc: 0.9699\n",
      "Epoch 17/100\n",
      "45000/45000 [==============================] - 1s 26us/step - loss: 0.0147 - acc: 0.9952 - val_loss: 0.1597 - val_acc: 0.9667\n",
      "Epoch 18/100\n",
      "45000/45000 [==============================] - 1s 26us/step - loss: 0.0138 - acc: 0.9953 - val_loss: 0.1473 - val_acc: 0.9701\n",
      "Epoch 19/100\n",
      "45000/45000 [==============================] - 1s 28us/step - loss: 0.0184 - acc: 0.9936 - val_loss: 0.1346 - val_acc: 0.9703\n",
      "Epoch 20/100\n",
      "45000/45000 [==============================] - 1s 26us/step - loss: 0.0121 - acc: 0.9961 - val_loss: 0.1293 - val_acc: 0.9730\n",
      "Epoch 21/100\n",
      "45000/45000 [==============================] - 1s 26us/step - loss: 0.0096 - acc: 0.9970 - val_loss: 0.1306 - val_acc: 0.9744\n",
      "Epoch 22/100\n",
      "45000/45000 [==============================] - 1s 26us/step - loss: 0.0149 - acc: 0.9950 - val_loss: 0.1465 - val_acc: 0.9711\n",
      "Epoch 23/100\n",
      "45000/45000 [==============================] - 1s 26us/step - loss: 0.0110 - acc: 0.9961 - val_loss: 0.1411 - val_acc: 0.9724\n",
      "Epoch 24/100\n",
      "45000/45000 [==============================] - 1s 25us/step - loss: 0.0099 - acc: 0.9969 - val_loss: 0.1409 - val_acc: 0.9757\n",
      "Epoch 25/100\n",
      "45000/45000 [==============================] - 1s 25us/step - loss: 0.0133 - acc: 0.9957 - val_loss: 0.1382 - val_acc: 0.9741\n",
      "Epoch 26/100\n",
      "45000/45000 [==============================] - 1s 25us/step - loss: 0.0069 - acc: 0.9978 - val_loss: 0.1409 - val_acc: 0.9746\n",
      "Epoch 27/100\n",
      "45000/45000 [==============================] - 1s 26us/step - loss: 0.0079 - acc: 0.9975 - val_loss: 0.1419 - val_acc: 0.9743\n",
      "Epoch 28/100\n",
      "45000/45000 [==============================] - 1s 26us/step - loss: 0.0051 - acc: 0.9985 - val_loss: 0.1562 - val_acc: 0.9715\n",
      "Epoch 29/100\n",
      "45000/45000 [==============================] - 1s 26us/step - loss: 0.0137 - acc: 0.9956 - val_loss: 0.1428 - val_acc: 0.9750\n",
      "Epoch 30/100\n",
      "45000/45000 [==============================] - 1s 26us/step - loss: 0.0092 - acc: 0.9968 - val_loss: 0.1535 - val_acc: 0.9724\n",
      "Epoch 31/100\n",
      "45000/45000 [==============================] - 1s 25us/step - loss: 0.0074 - acc: 0.9974 - val_loss: 0.1592 - val_acc: 0.9723\n",
      "Epoch 32/100\n",
      "45000/45000 [==============================] - 1s 26us/step - loss: 0.0104 - acc: 0.9969 - val_loss: 0.1531 - val_acc: 0.9736\n",
      "Epoch 33/100\n",
      "45000/45000 [==============================] - 1s 26us/step - loss: 0.0062 - acc: 0.9979 - val_loss: 0.1429 - val_acc: 0.9761\n",
      "Epoch 34/100\n",
      "45000/45000 [==============================] - 1s 26us/step - loss: 0.0077 - acc: 0.9977 - val_loss: 0.1456 - val_acc: 0.9755\n",
      "Epoch 35/100\n",
      "45000/45000 [==============================] - 1s 27us/step - loss: 0.0097 - acc: 0.9970 - val_loss: 0.1645 - val_acc: 0.9725\n",
      "Epoch 36/100\n",
      "45000/45000 [==============================] - 1s 25us/step - loss: 0.0107 - acc: 0.9966 - val_loss: 0.1393 - val_acc: 0.9755\n",
      "Epoch 37/100\n",
      "45000/45000 [==============================] - 1s 26us/step - loss: 0.0033 - acc: 0.9991 - val_loss: 0.1532 - val_acc: 0.9755\n",
      "Epoch 38/100\n",
      "45000/45000 [==============================] - 1s 26us/step - loss: 9.5851e-04 - acc: 0.9999 - val_loss: 0.1379 - val_acc: 0.9776\n",
      "Epoch 39/100\n",
      "45000/45000 [==============================] - 1s 26us/step - loss: 4.9167e-04 - acc: 1.0000 - val_loss: 0.1377 - val_acc: 0.9779\n",
      "Epoch 40/100\n",
      "45000/45000 [==============================] - 1s 26us/step - loss: 4.4309e-04 - acc: 1.0000 - val_loss: 0.1392 - val_acc: 0.9783\n",
      "Epoch 41/100\n",
      "45000/45000 [==============================] - 1s 26us/step - loss: 4.2333e-04 - acc: 1.0000 - val_loss: 0.1398 - val_acc: 0.9787\n",
      "Epoch 42/100\n",
      "45000/45000 [==============================] - 1s 26us/step - loss: 4.1086e-04 - acc: 1.0000 - val_loss: 0.1414 - val_acc: 0.9789\n",
      "Epoch 43/100\n",
      "45000/45000 [==============================] - 1s 26us/step - loss: 4.0180e-04 - acc: 1.0000 - val_loss: 0.1423 - val_acc: 0.9790\n",
      "Epoch 44/100\n",
      "45000/45000 [==============================] - 1s 25us/step - loss: 3.9436e-04 - acc: 1.0000 - val_loss: 0.1436 - val_acc: 0.9788\n",
      "Epoch 45/100\n",
      "45000/45000 [==============================] - 1s 26us/step - loss: 3.8841e-04 - acc: 1.0000 - val_loss: 0.1449 - val_acc: 0.9789\n",
      "Epoch 46/100\n",
      "45000/45000 [==============================] - 1s 27us/step - loss: 3.8352e-04 - acc: 1.0000 - val_loss: 0.1464 - val_acc: 0.9788\n",
      "Epoch 47/100\n",
      "45000/45000 [==============================] - 1s 29us/step - loss: 3.7967e-04 - acc: 1.0000 - val_loss: 0.1469 - val_acc: 0.9789\n",
      "Epoch 48/100\n",
      "45000/45000 [==============================] - 1s 26us/step - loss: 3.7620e-04 - acc: 1.0000 - val_loss: 0.1484 - val_acc: 0.9787\n",
      "Epoch 49/100\n",
      "45000/45000 [==============================] - 1s 25us/step - loss: 3.7329e-04 - acc: 1.0000 - val_loss: 0.1496 - val_acc: 0.9789\n",
      "Epoch 50/100\n",
      "45000/45000 [==============================] - 1s 25us/step - loss: 3.7091e-04 - acc: 1.0000 - val_loss: 0.1508 - val_acc: 0.9789\n",
      "Epoch 51/100\n",
      "45000/45000 [==============================] - 1s 25us/step - loss: 3.6903e-04 - acc: 1.0000 - val_loss: 0.1513 - val_acc: 0.9785\n",
      "Epoch 52/100\n",
      "45000/45000 [==============================] - 1s 25us/step - loss: 3.6738e-04 - acc: 1.0000 - val_loss: 0.1536 - val_acc: 0.9785\n",
      "Epoch 53/100\n",
      "45000/45000 [==============================] - 1s 27us/step - loss: 3.6594e-04 - acc: 1.0000 - val_loss: 0.1550 - val_acc: 0.9787\n",
      "Epoch 54/100\n",
      "45000/45000 [==============================] - 1s 26us/step - loss: 3.6472e-04 - acc: 1.0000 - val_loss: 0.1557 - val_acc: 0.9787\n",
      "Epoch 55/100\n",
      "45000/45000 [==============================] - 1s 26us/step - loss: 3.6384e-04 - acc: 1.0000 - val_loss: 0.1572 - val_acc: 0.9783\n",
      "Epoch 56/100\n",
      "45000/45000 [==============================] - 1s 26us/step - loss: 3.6296e-04 - acc: 1.0000 - val_loss: 0.1583 - val_acc: 0.9784\n",
      "Epoch 57/100\n",
      "45000/45000 [==============================] - 1s 26us/step - loss: 3.6214e-04 - acc: 1.0000 - val_loss: 0.1602 - val_acc: 0.9787\n",
      "Epoch 58/100\n",
      "45000/45000 [==============================] - 1s 26us/step - loss: 3.6165e-04 - acc: 1.0000 - val_loss: 0.1611 - val_acc: 0.9781\n",
      "Epoch 59/100\n",
      "45000/45000 [==============================] - 1s 28us/step - loss: 3.6109e-04 - acc: 1.0000 - val_loss: 0.1624 - val_acc: 0.9781\n",
      "Epoch 60/100\n",
      "45000/45000 [==============================] - 1s 31us/step - loss: 3.6060e-04 - acc: 1.0000 - val_loss: 0.1637 - val_acc: 0.9784\n",
      "Epoch 61/100\n",
      "45000/45000 [==============================] - 1s 26us/step - loss: 3.6024e-04 - acc: 1.0000 - val_loss: 0.1653 - val_acc: 0.9785\n",
      "Epoch 62/100\n",
      "45000/45000 [==============================] - 1s 26us/step - loss: 3.5997e-04 - acc: 1.0000 - val_loss: 0.1669 - val_acc: 0.9786\n",
      "Epoch 63/100\n",
      "45000/45000 [==============================] - 1s 26us/step - loss: 3.5967e-04 - acc: 1.0000 - val_loss: 0.1675 - val_acc: 0.9785\n",
      "Epoch 64/100\n",
      "45000/45000 [==============================] - 1s 26us/step - loss: 3.5947e-04 - acc: 1.0000 - val_loss: 0.1696 - val_acc: 0.9785\n",
      "Epoch 65/100\n",
      "45000/45000 [==============================] - 1s 26us/step - loss: 3.5926e-04 - acc: 1.0000 - val_loss: 0.1700 - val_acc: 0.9784\n",
      "Epoch 66/100\n",
      "45000/45000 [==============================] - 1s 26us/step - loss: 3.5911e-04 - acc: 1.0000 - val_loss: 0.1717 - val_acc: 0.9783\n",
      "Epoch 67/100\n",
      "45000/45000 [==============================] - 1s 26us/step - loss: 0.0282 - acc: 0.9959 - val_loss: 0.4807 - val_acc: 0.9382\n",
      "Epoch 68/100\n",
      "45000/45000 [==============================] - 1s 26us/step - loss: 0.0476 - acc: 0.9883 - val_loss: 0.1417 - val_acc: 0.9746\n",
      "Epoch 69/100\n",
      "45000/45000 [==============================] - 1s 26us/step - loss: 0.0030 - acc: 0.9993 - val_loss: 0.1402 - val_acc: 0.9755\n",
      "Epoch 70/100\n",
      "45000/45000 [==============================] - 1s 26us/step - loss: 9.4658e-04 - acc: 0.9999 - val_loss: 0.1425 - val_acc: 0.9769\n",
      "Epoch 71/100\n",
      "45000/45000 [==============================] - 1s 27us/step - loss: 9.0069e-04 - acc: 0.9998 - val_loss: 0.1469 - val_acc: 0.9759\n",
      "Epoch 72/100\n",
      "45000/45000 [==============================] - 1s 29us/step - loss: 8.4701e-04 - acc: 0.9999 - val_loss: 0.1546 - val_acc: 0.9761\n",
      "Epoch 73/100\n",
      "45000/45000 [==============================] - 2s 36us/step - loss: 7.0523e-04 - acc: 0.9999 - val_loss: 0.1518 - val_acc: 0.9769\n",
      "Epoch 74/100\n",
      "45000/45000 [==============================] - 2s 34us/step - loss: 0.0204 - acc: 0.9945 - val_loss: 0.1810 - val_acc: 0.9699\n",
      "Epoch 75/100\n",
      "45000/45000 [==============================] - 1s 26us/step - loss: 0.0094 - acc: 0.9971 - val_loss: 0.1566 - val_acc: 0.9754\n",
      "Epoch 76/100\n",
      "45000/45000 [==============================] - 1s 26us/step - loss: 0.0068 - acc: 0.9982 - val_loss: 0.1447 - val_acc: 0.9764\n",
      "Epoch 77/100\n",
      "45000/45000 [==============================] - 1s 29us/step - loss: 0.0029 - acc: 0.9993 - val_loss: 0.1606 - val_acc: 0.9749\n",
      "Epoch 78/100\n",
      "45000/45000 [==============================] - 1s 26us/step - loss: 0.0096 - acc: 0.9975 - val_loss: 0.1620 - val_acc: 0.9756\n",
      "Epoch 79/100\n",
      "45000/45000 [==============================] - 1s 31us/step - loss: 0.0055 - acc: 0.9985 - val_loss: 0.1595 - val_acc: 0.9764\n",
      "Epoch 80/100\n",
      "45000/45000 [==============================] - 2s 37us/step - loss: 0.0037 - acc: 0.9988 - val_loss: 0.1989 - val_acc: 0.9713\n",
      "Epoch 81/100\n",
      "45000/45000 [==============================] - 1s 27us/step - loss: 0.0090 - acc: 0.9977 - val_loss: 0.1605 - val_acc: 0.9763\n",
      "Epoch 82/100\n",
      "45000/45000 [==============================] - 1s 27us/step - loss: 0.0073 - acc: 0.9980 - val_loss: 0.1889 - val_acc: 0.9727\n",
      "Epoch 83/100\n",
      "45000/45000 [==============================] - 1s 26us/step - loss: 0.0059 - acc: 0.9984 - val_loss: 0.1832 - val_acc: 0.9730\n",
      "Epoch 84/100\n",
      "45000/45000 [==============================] - 1s 26us/step - loss: 0.0057 - acc: 0.9984 - val_loss: 0.1800 - val_acc: 0.9744\n",
      "Epoch 85/100\n",
      "45000/45000 [==============================] - 1s 26us/step - loss: 0.0014 - acc: 0.9997 - val_loss: 0.1579 - val_acc: 0.9773\n",
      "Epoch 86/100\n",
      "45000/45000 [==============================] - 1s 26us/step - loss: 9.9472e-04 - acc: 0.9999 - val_loss: 0.1579 - val_acc: 0.9765\n",
      "Epoch 87/100\n",
      "45000/45000 [==============================] - 1s 26us/step - loss: 5.9814e-04 - acc: 0.9999 - val_loss: 0.1514 - val_acc: 0.9780\n",
      "Epoch 88/100\n",
      "45000/45000 [==============================] - 1s 26us/step - loss: 4.2091e-04 - acc: 1.0000 - val_loss: 0.1529 - val_acc: 0.9781\n",
      "Epoch 89/100\n",
      "45000/45000 [==============================] - 1s 26us/step - loss: 3.8878e-04 - acc: 1.0000 - val_loss: 0.1539 - val_acc: 0.9781\n",
      "Epoch 90/100\n",
      "45000/45000 [==============================] - 1s 26us/step - loss: 3.8272e-04 - acc: 1.0000 - val_loss: 0.1551 - val_acc: 0.9783\n",
      "Epoch 91/100\n",
      "45000/45000 [==============================] - 1s 26us/step - loss: 3.7843e-04 - acc: 1.0000 - val_loss: 0.1564 - val_acc: 0.9781\n",
      "Epoch 92/100\n",
      "45000/45000 [==============================] - 1s 26us/step - loss: 3.7522e-04 - acc: 1.0000 - val_loss: 0.1574 - val_acc: 0.9781\n",
      "Epoch 93/100\n",
      "45000/45000 [==============================] - 1s 26us/step - loss: 3.7251e-04 - acc: 1.0000 - val_loss: 0.1586 - val_acc: 0.9780\n",
      "Epoch 94/100\n",
      "45000/45000 [==============================] - 1s 26us/step - loss: 3.7025e-04 - acc: 1.0000 - val_loss: 0.1597 - val_acc: 0.9781\n",
      "Epoch 95/100\n",
      "45000/45000 [==============================] - 1s 26us/step - loss: 3.6836e-04 - acc: 1.0000 - val_loss: 0.1610 - val_acc: 0.9781\n",
      "Epoch 96/100\n",
      "45000/45000 [==============================] - 1s 27us/step - loss: 3.6672e-04 - acc: 1.0000 - val_loss: 0.1619 - val_acc: 0.9780\n",
      "Epoch 97/100\n",
      "45000/45000 [==============================] - 1s 26us/step - loss: 3.6542e-04 - acc: 1.0000 - val_loss: 0.1634 - val_acc: 0.9780\n",
      "Epoch 98/100\n",
      "45000/45000 [==============================] - 1s 26us/step - loss: 3.6432e-04 - acc: 1.0000 - val_loss: 0.1644 - val_acc: 0.9781\n",
      "Epoch 99/100\n",
      "45000/45000 [==============================] - 1s 27us/step - loss: 3.6333e-04 - acc: 1.0000 - val_loss: 0.1660 - val_acc: 0.9780\n",
      "Epoch 100/100\n",
      "45000/45000 [==============================] - 1s 27us/step - loss: 3.6256e-04 - acc: 1.0000 - val_loss: 0.1665 - val_acc: 0.9780\n"
     ]
    }
   ],
   "source": [
    "history=model.fit(train_data , train_label , epochs=100 , batch_size=128,validation_data=[val_data,val_label])"
   ]
  },
  {
   "cell_type": "code",
   "execution_count": 10,
   "metadata": {},
   "outputs": [
    {
     "name": "stdout",
     "output_type": "stream",
     "text": [
      "10000/10000 [==============================] - 0s 33us/step\n",
      "The Accuracy on Test Data = 0.9804\n"
     ]
    }
   ],
   "source": [
    "loss,acc=model.evaluate(test_data,test_label)\n",
    "print(f'The Accuracy on Test Data = {acc}')"
   ]
  },
  {
   "cell_type": "code",
   "execution_count": 12,
   "metadata": {},
   "outputs": [
    {
     "data": {
      "image/png": "[encoded data removed]",
      "text/plain": [
       "<Figure size 432x288 with 1 Axes>"
      ]
     },
     "metadata": {
      "needs_background": "light"
     },
     "output_type": "display_data"
    }
   ],
   "source": [
    "acc = history.history['acc']\n",
    "loss = history.history['loss']\n",
    "val_acc=history.history['val_acc']\n",
    "val_loss=history.history['val_loss']\n",
    "\n",
    "epochs=range(100)\n",
    "\n",
    "plt.plot(epochs,acc,'o-',label='Training Accuracy')\n",
    "plt.plot(epochs,val_acc,'b-',label='Validation Accuracy')\n",
    "plt.title('Training and Validation Accuracy')\n",
    "plt.legend()\n",
    "\n",
    "plt.show()"
   ]
  },
  {
   "cell_type": "code",
   "execution_count": 13,
   "metadata": {},
   "outputs": [
    {
     "data": {
      "image/png": "[encoded data removed]",
      "text/plain": [
       "<Figure size 432x288 with 1 Axes>"
      ]
     },
     "metadata": {
      "needs_background": "light"
     },
     "output_type": "display_data"
    }
   ],
   "source": [
    "plt.plot(epochs,loss,'o-',label='Training Loss')\n",
    "plt.plot(epochs,val_loss,'b-',label='Validation Loss')\n",
    "plt.title('Training and Validation Loss')\n",
    "plt.legend()\n",
    "\n",
    "plt.show()"
   ]
  },
  {
   "cell_type": "code",
   "execution_count": null,
   "metadata": {},
   "outputs": [],
   "source": []
  }
 ],
 "metadata": {
  "kernelspec": {
   "display_name": "Python 3",
   "language": "python",
   "name": "python3"
  },
  "language_info": {
   "codemirror_mode": {
    "name": "ipython",
    "version": 3
   },
   "file_extension": ".py",
   "mimetype": "text/x-python",
   "name": "python",
   "nbconvert_exporter": "python",
   "pygments_lexer": "ipython3",
   "version": "3.6.8"
  }
 },
 "nbformat": 4,
 "nbformat_minor": 2
}
