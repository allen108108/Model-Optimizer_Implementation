{
 "cells": [
  {
   "cell_type": "code",
   "execution_count": 1,
   "metadata": {},
   "outputs": [
    {
     "name": "stderr",
     "output_type": "stream",
     "text": [
      "Using TensorFlow backend.\n"
     ]
    }
   ],
   "source": [
    "import numpy as np\n",
    "import pandas as pd\n",
    "import matplotlib.pyplot as plt\n",
    "\n",
    "from sklearn.model_selection import train_test_split\n",
    "\n",
    "from keras.datasets import mnist\n",
    "from keras.callbacks import ReduceLROnPlateau\n",
    "\n",
    "from keras.utils import to_categorical\n",
    "from keras import layers\n",
    "from keras import models\n",
    "from keras import optimizers"
   ]
  },
  {
   "cell_type": "code",
   "execution_count": 2,
   "metadata": {},
   "outputs": [
    {
     "name": "stdout",
     "output_type": "stream",
     "text": [
      "The Train Data shape : (60000, 28, 28)\n",
      "The Test Data shape : (10000, 28, 28)\n"
     ]
    }
   ],
   "source": [
    "(train_data,train_label),(test_data,test_label)=mnist.load_data()\n",
    "\n",
    "print(f'The Train Data shape : {train_data.shape}')\n",
    "print(f'The Test Data shape : {test_data.shape}')"
   ]
  },
  {
   "cell_type": "code",
   "execution_count": 3,
   "metadata": {},
   "outputs": [],
   "source": [
    "train_data = train_data.reshape(-1,28,28,1).astype('float32')/255\n",
    "test_data = test_data.reshape(-1,28,28,1).astype('float32')/255"
   ]
  },
  {
   "cell_type": "code",
   "execution_count": 4,
   "metadata": {},
   "outputs": [],
   "source": [
    "train_label = to_categorical(train_label)\n",
    "test_label = to_categorical(test_label)"
   ]
  },
  {
   "cell_type": "code",
   "execution_count": 5,
   "metadata": {},
   "outputs": [],
   "source": [
    "train_data,val_data,train_label,val_label=train_test_split(train_data,train_label,test_size=0.25,random_state=13)"
   ]
  },
  {
   "cell_type": "code",
   "execution_count": 6,
   "metadata": {},
   "outputs": [],
   "source": [
    "LR_function=ReduceLROnPlateau(monitor='val_acc',\n",
    "                             patience=3,\n",
    "                             verbose=1,\n",
    "                             factor=0.5,\n",
    "                             min_lr=0.00001)"
   ]
  },
  {
   "cell_type": "code",
   "execution_count": 7,
   "metadata": {},
   "outputs": [],
   "source": [
    "model=models.Sequential()\n",
    "\n",
    "model.add(layers.Conv2D(32,(3,3),activation='relu',input_shape=(28,28,1)))\n",
    "model.add(layers.MaxPooling2D((2,2)))\n",
    "model.add(layers.Conv2D(64,(3,3),activation='relu'))\n",
    "model.add(layers.MaxPooling2D((2,2)))\n",
    "model.add(layers.Dropout(0.5))\n",
    "model.add(layers.Conv2D(64,(3,3),activation='relu'))\n",
    "\n",
    "model.add(layers.Flatten())\n",
    "model.add(layers.Dense(64,activation='relu'))\n",
    "model.add(layers.Dense(10,activation='softmax'))"
   ]
  },
  {
   "cell_type": "code",
   "execution_count": 8,
   "metadata": {},
   "outputs": [
    {
     "name": "stdout",
     "output_type": "stream",
     "text": [
      "_________________________________________________________________\n",
      "Layer (type)                 Output Shape              Param #   \n",
      "=================================================================\n",
      "conv2d_1 (Conv2D)            (None, 26, 26, 32)        320       \n",
      "_________________________________________________________________\n",
      "max_pooling2d_1 (MaxPooling2 (None, 13, 13, 32)        0         \n",
      "_________________________________________________________________\n",
      "conv2d_2 (Conv2D)            (None, 11, 11, 64)        18496     \n",
      "_________________________________________________________________\n",
      "max_pooling2d_2 (MaxPooling2 (None, 5, 5, 64)          0         \n",
      "_________________________________________________________________\n",
      "dropout_1 (Dropout)          (None, 5, 5, 64)          0         \n",
      "_________________________________________________________________\n",
      "conv2d_3 (Conv2D)            (None, 3, 3, 64)          36928     \n",
      "_________________________________________________________________\n",
      "flatten_1 (Flatten)          (None, 576)               0         \n",
      "_________________________________________________________________\n",
      "dense_1 (Dense)              (None, 64)                36928     \n",
      "_________________________________________________________________\n",
      "dense_2 (Dense)              (None, 10)                650       \n",
      "=================================================================\n",
      "Total params: 93,322\n",
      "Trainable params: 93,322\n",
      "Non-trainable params: 0\n",
      "_________________________________________________________________\n"
     ]
    }
   ],
   "source": [
    "model.summary()"
   ]
  },
  {
   "cell_type": "code",
   "execution_count": 9,
   "metadata": {},
   "outputs": [],
   "source": [
    "model.compile(optimizer='Adam' , loss='categorical_crossentropy' , metrics=['accuracy'])"
   ]
  },
  {
   "cell_type": "code",
   "execution_count": 10,
   "metadata": {
    "scrolled": false
   },
   "outputs": [
    {
     "name": "stdout",
     "output_type": "stream",
     "text": [
      "Train on 45000 samples, validate on 15000 samples\n",
      "Epoch 1/100\n",
      "45000/45000 [==============================] - 8s 182us/step - loss: 0.2626 - acc: 0.9170 - val_loss: 0.0739 - val_acc: 0.9772\n",
      "Epoch 2/100\n",
      "45000/45000 [==============================] - 4s 96us/step - loss: 0.0878 - acc: 0.9728 - val_loss: 0.0546 - val_acc: 0.9833\n",
      "Epoch 3/100\n",
      "45000/45000 [==============================] - 5s 100us/step - loss: 0.0627 - acc: 0.9805 - val_loss: 0.0404 - val_acc: 0.9873\n",
      "Epoch 4/100\n",
      "45000/45000 [==============================] - 4s 95us/step - loss: 0.0543 - acc: 0.9827 - val_loss: 0.0381 - val_acc: 0.9881\n",
      "Epoch 5/100\n",
      "45000/45000 [==============================] - 4s 95us/step - loss: 0.0441 - acc: 0.9861 - val_loss: 0.0388 - val_acc: 0.9889\n",
      "Epoch 6/100\n",
      "45000/45000 [==============================] - 4s 98us/step - loss: 0.0399 - acc: 0.9874 - val_loss: 0.0318 - val_acc: 0.9907\n",
      "Epoch 7/100\n",
      "45000/45000 [==============================] - 4s 98us/step - loss: 0.0350 - acc: 0.9891 - val_loss: 0.0319 - val_acc: 0.9897\n",
      "Epoch 8/100\n",
      "45000/45000 [==============================] - 4s 97us/step - loss: 0.0333 - acc: 0.9894 - val_loss: 0.0274 - val_acc: 0.9913\n",
      "Epoch 9/100\n",
      "45000/45000 [==============================] - 5s 109us/step - loss: 0.0289 - acc: 0.9907 - val_loss: 0.0270 - val_acc: 0.9925\n",
      "Epoch 10/100\n",
      "45000/45000 [==============================] - 4s 96us/step - loss: 0.0289 - acc: 0.9905 - val_loss: 0.0260 - val_acc: 0.9921\n",
      "Epoch 11/100\n",
      "45000/45000 [==============================] - 4s 96us/step - loss: 0.0233 - acc: 0.9925 - val_loss: 0.0304 - val_acc: 0.9911\n",
      "Epoch 12/100\n",
      "45000/45000 [==============================] - 4s 99us/step - loss: 0.0253 - acc: 0.9913 - val_loss: 0.0294 - val_acc: 0.9918\n",
      "\n",
      "Epoch 00012: ReduceLROnPlateau reducing learning rate to 0.0005000000237487257.\n",
      "Epoch 13/100\n",
      "45000/45000 [==============================] - 4s 96us/step - loss: 0.0165 - acc: 0.9941 - val_loss: 0.0234 - val_acc: 0.9939\n",
      "Epoch 14/100\n",
      "45000/45000 [==============================] - 4s 99us/step - loss: 0.0148 - acc: 0.9956 - val_loss: 0.0248 - val_acc: 0.9930\n",
      "Epoch 15/100\n",
      "45000/45000 [==============================] - 4s 99us/step - loss: 0.0143 - acc: 0.9950 - val_loss: 0.0236 - val_acc: 0.9933\n",
      "Epoch 16/100\n",
      "45000/45000 [==============================] - 5s 107us/step - loss: 0.0137 - acc: 0.9951 - val_loss: 0.0229 - val_acc: 0.9933\n",
      "\n",
      "Epoch 00016: ReduceLROnPlateau reducing learning rate to 0.0002500000118743628.\n",
      "Epoch 17/100\n",
      "45000/45000 [==============================] - 5s 109us/step - loss: 0.0106 - acc: 0.9965 - val_loss: 0.0223 - val_acc: 0.9938\n",
      "Epoch 18/100\n",
      "45000/45000 [==============================] - 5s 105us/step - loss: 0.0098 - acc: 0.9968 - val_loss: 0.0246 - val_acc: 0.9927\n",
      "Epoch 19/100\n",
      "45000/45000 [==============================] - 5s 101us/step - loss: 0.0086 - acc: 0.9969 - val_loss: 0.0228 - val_acc: 0.9935\n",
      "\n",
      "Epoch 00019: ReduceLROnPlateau reducing learning rate to 0.0001250000059371814.\n",
      "Epoch 20/100\n",
      "45000/45000 [==============================] - 5s 102us/step - loss: 0.0071 - acc: 0.9978 - val_loss: 0.0220 - val_acc: 0.9939\n",
      "Epoch 21/100\n",
      "45000/45000 [==============================] - 5s 100us/step - loss: 0.0065 - acc: 0.9976 - val_loss: 0.0223 - val_acc: 0.9937\n",
      "Epoch 22/100\n",
      "45000/45000 [==============================] - 5s 105us/step - loss: 0.0071 - acc: 0.9979 - val_loss: 0.0225 - val_acc: 0.9942\n",
      "Epoch 23/100\n",
      "45000/45000 [==============================] - 5s 105us/step - loss: 0.0059 - acc: 0.9981 - val_loss: 0.0231 - val_acc: 0.9939\n",
      "Epoch 24/100\n",
      "45000/45000 [==============================] - 4s 100us/step - loss: 0.0066 - acc: 0.9980 - val_loss: 0.0229 - val_acc: 0.9938\n",
      "Epoch 25/100\n",
      "45000/45000 [==============================] - 5s 104us/step - loss: 0.0064 - acc: 0.9979 - val_loss: 0.0227 - val_acc: 0.9941\n",
      "\n",
      "Epoch 00025: ReduceLROnPlateau reducing learning rate to 6.25000029685907e-05.\n",
      "Epoch 26/100\n",
      "45000/45000 [==============================] - 4s 97us/step - loss: 0.0057 - acc: 0.9980 - val_loss: 0.0226 - val_acc: 0.9938\n",
      "Epoch 27/100\n",
      "45000/45000 [==============================] - 5s 103us/step - loss: 0.0056 - acc: 0.9981 - val_loss: 0.0229 - val_acc: 0.9937\n",
      "Epoch 28/100\n",
      "45000/45000 [==============================] - 4s 99us/step - loss: 0.0053 - acc: 0.9982 - val_loss: 0.0233 - val_acc: 0.9935\n",
      "\n",
      "Epoch 00028: ReduceLROnPlateau reducing learning rate to 3.125000148429535e-05.\n",
      "Epoch 29/100\n",
      "45000/45000 [==============================] - 5s 101us/step - loss: 0.0054 - acc: 0.9982 - val_loss: 0.0232 - val_acc: 0.9935\n",
      "Epoch 30/100\n",
      "45000/45000 [==============================] - 5s 110us/step - loss: 0.0054 - acc: 0.9984 - val_loss: 0.0233 - val_acc: 0.9938\n",
      "Epoch 31/100\n",
      "45000/45000 [==============================] - 4s 96us/step - loss: 0.0046 - acc: 0.9984 - val_loss: 0.0237 - val_acc: 0.9936\n",
      "\n",
      "Epoch 00031: ReduceLROnPlateau reducing learning rate to 1.5625000742147677e-05.\n",
      "Epoch 32/100\n",
      "45000/45000 [==============================] - 4s 95us/step - loss: 0.0049 - acc: 0.9982 - val_loss: 0.0233 - val_acc: 0.9936\n",
      "Epoch 33/100\n",
      "45000/45000 [==============================] - 4s 96us/step - loss: 0.0043 - acc: 0.9988 - val_loss: 0.0233 - val_acc: 0.9937\n",
      "Epoch 34/100\n",
      "45000/45000 [==============================] - 4s 94us/step - loss: 0.0046 - acc: 0.9985 - val_loss: 0.0233 - val_acc: 0.9938\n",
      "\n",
      "Epoch 00034: ReduceLROnPlateau reducing learning rate to 1e-05.\n",
      "Epoch 35/100\n",
      "45000/45000 [==============================] - 4s 100us/step - loss: 0.0043 - acc: 0.9985 - val_loss: 0.0234 - val_acc: 0.9935\n",
      "Epoch 36/100\n",
      "45000/45000 [==============================] - 5s 109us/step - loss: 0.0044 - acc: 0.9986 - val_loss: 0.0234 - val_acc: 0.9937\n",
      "Epoch 37/100\n",
      "45000/45000 [==============================] - 4s 96us/step - loss: 0.0045 - acc: 0.9985 - val_loss: 0.0234 - val_acc: 0.9937\n",
      "Epoch 38/100\n",
      "45000/45000 [==============================] - 5s 104us/step - loss: 0.0046 - acc: 0.9985 - val_loss: 0.0232 - val_acc: 0.9939\n",
      "Epoch 39/100\n",
      "45000/45000 [==============================] - 4s 96us/step - loss: 0.0044 - acc: 0.9985 - val_loss: 0.0232 - val_acc: 0.9939\n",
      "Epoch 40/100\n",
      "45000/45000 [==============================] - 5s 105us/step - loss: 0.0046 - acc: 0.9986 - val_loss: 0.0233 - val_acc: 0.9938\n",
      "Epoch 41/100\n",
      "45000/45000 [==============================] - 5s 104us/step - loss: 0.0043 - acc: 0.9987 - val_loss: 0.0235 - val_acc: 0.9937\n",
      "Epoch 42/100\n",
      "45000/45000 [==============================] - 4s 96us/step - loss: 0.0050 - acc: 0.9986 - val_loss: 0.0235 - val_acc: 0.9937\n",
      "Epoch 43/100\n",
      "45000/45000 [==============================] - 5s 103us/step - loss: 0.0040 - acc: 0.9988 - val_loss: 0.0234 - val_acc: 0.9939\n",
      "Epoch 44/100\n",
      "45000/45000 [==============================] - 4s 99us/step - loss: 0.0044 - acc: 0.9986 - val_loss: 0.0236 - val_acc: 0.9937\n",
      "Epoch 45/100\n",
      "45000/45000 [==============================] - 5s 105us/step - loss: 0.0040 - acc: 0.9987 - val_loss: 0.0236 - val_acc: 0.9939\n",
      "Epoch 46/100\n",
      "45000/45000 [==============================] - 5s 110us/step - loss: 0.0040 - acc: 0.9988 - val_loss: 0.0237 - val_acc: 0.9937\n",
      "Epoch 47/100\n",
      "45000/45000 [==============================] - 4s 98us/step - loss: 0.0048 - acc: 0.9985 - val_loss: 0.0237 - val_acc: 0.9937\n",
      "Epoch 48/100\n",
      "45000/45000 [==============================] - 5s 110us/step - loss: 0.0039 - acc: 0.9987 - val_loss: 0.0238 - val_acc: 0.9936\n",
      "Epoch 49/100\n",
      "45000/45000 [==============================] - 4s 96us/step - loss: 0.0052 - acc: 0.9983 - val_loss: 0.0237 - val_acc: 0.9935\n",
      "Epoch 50/100\n",
      "45000/45000 [==============================] - 4s 100us/step - loss: 0.0035 - acc: 0.9991 - val_loss: 0.0237 - val_acc: 0.9935\n",
      "Epoch 51/100\n",
      "45000/45000 [==============================] - 4s 95us/step - loss: 0.0038 - acc: 0.9989 - val_loss: 0.0237 - val_acc: 0.9936\n",
      "Epoch 52/100\n",
      "45000/45000 [==============================] - 5s 102us/step - loss: 0.0039 - acc: 0.9988 - val_loss: 0.0238 - val_acc: 0.9937\n",
      "Epoch 53/100\n",
      "45000/45000 [==============================] - 5s 103us/step - loss: 0.0041 - acc: 0.9984 - val_loss: 0.0237 - val_acc: 0.9937\n",
      "Epoch 54/100\n",
      "45000/45000 [==============================] - 5s 102us/step - loss: 0.0041 - acc: 0.9988 - val_loss: 0.0238 - val_acc: 0.9936\n",
      "Epoch 55/100\n",
      "45000/45000 [==============================] - 4s 100us/step - loss: 0.0045 - acc: 0.9984 - val_loss: 0.0237 - val_acc: 0.9938\n",
      "Epoch 56/100\n",
      "45000/45000 [==============================] - 5s 107us/step - loss: 0.0042 - acc: 0.9987 - val_loss: 0.0237 - val_acc: 0.9937\n",
      "Epoch 57/100\n",
      "45000/45000 [==============================] - 5s 109us/step - loss: 0.0043 - acc: 0.9987 - val_loss: 0.0239 - val_acc: 0.9935\n",
      "Epoch 58/100\n",
      "45000/45000 [==============================] - 5s 103us/step - loss: 0.0046 - acc: 0.9985 - val_loss: 0.0236 - val_acc: 0.9936\n",
      "Epoch 59/100\n",
      "45000/45000 [==============================] - 4s 99us/step - loss: 0.0037 - acc: 0.9988 - val_loss: 0.0236 - val_acc: 0.9935\n",
      "Epoch 60/100\n",
      "45000/45000 [==============================] - 4s 100us/step - loss: 0.0044 - acc: 0.9986 - val_loss: 0.0236 - val_acc: 0.9935\n",
      "Epoch 61/100\n",
      "45000/45000 [==============================] - 5s 110us/step - loss: 0.0042 - acc: 0.9986 - val_loss: 0.0237 - val_acc: 0.9935\n",
      "Epoch 62/100\n",
      "45000/45000 [==============================] - 4s 100us/step - loss: 0.0041 - acc: 0.9988 - val_loss: 0.0235 - val_acc: 0.9936\n",
      "Epoch 63/100\n",
      "45000/45000 [==============================] - 4s 96us/step - loss: 0.0040 - acc: 0.9989 - val_loss: 0.0235 - val_acc: 0.9936\n",
      "Epoch 64/100\n",
      "45000/45000 [==============================] - 5s 102us/step - loss: 0.0035 - acc: 0.9988 - val_loss: 0.0236 - val_acc: 0.9937\n",
      "Epoch 65/100\n",
      "45000/45000 [==============================] - 5s 106us/step - loss: 0.0041 - acc: 0.9989 - val_loss: 0.0236 - val_acc: 0.9937\n",
      "Epoch 66/100\n",
      "45000/45000 [==============================] - 5s 104us/step - loss: 0.0041 - acc: 0.9988 - val_loss: 0.0236 - val_acc: 0.9937\n",
      "Epoch 67/100\n",
      "45000/45000 [==============================] - 5s 101us/step - loss: 0.0037 - acc: 0.9988 - val_loss: 0.0236 - val_acc: 0.9939\n",
      "Epoch 68/100\n",
      "45000/45000 [==============================] - 5s 107us/step - loss: 0.0040 - acc: 0.9989 - val_loss: 0.0238 - val_acc: 0.9940\n",
      "Epoch 69/100\n",
      "45000/45000 [==============================] - 4s 99us/step - loss: 0.0042 - acc: 0.9987 - val_loss: 0.0234 - val_acc: 0.9939\n",
      "Epoch 70/100\n",
      "45000/45000 [==============================] - 4s 96us/step - loss: 0.0037 - acc: 0.9989 - val_loss: 0.0237 - val_acc: 0.9939\n",
      "Epoch 71/100\n",
      "45000/45000 [==============================] - 5s 105us/step - loss: 0.0044 - acc: 0.9984 - val_loss: 0.0237 - val_acc: 0.9940\n",
      "Epoch 72/100\n",
      "45000/45000 [==============================] - 5s 101us/step - loss: 0.0038 - acc: 0.9988 - val_loss: 0.0238 - val_acc: 0.9937\n",
      "Epoch 73/100\n",
      "45000/45000 [==============================] - 4s 100us/step - loss: 0.0035 - acc: 0.9990 - val_loss: 0.0237 - val_acc: 0.9937\n",
      "Epoch 74/100\n",
      "45000/45000 [==============================] - 5s 103us/step - loss: 0.0043 - acc: 0.9986 - val_loss: 0.0235 - val_acc: 0.9940\n",
      "Epoch 75/100\n",
      "45000/45000 [==============================] - 5s 102us/step - loss: 0.0037 - acc: 0.9988 - val_loss: 0.0236 - val_acc: 0.9938\n",
      "Epoch 76/100\n",
      "45000/45000 [==============================] - 5s 109us/step - loss: 0.0036 - acc: 0.9990 - val_loss: 0.0239 - val_acc: 0.9937\n",
      "Epoch 77/100\n",
      "45000/45000 [==============================] - 5s 103us/step - loss: 0.0039 - acc: 0.9990 - val_loss: 0.0236 - val_acc: 0.9939\n",
      "Epoch 78/100\n",
      "45000/45000 [==============================] - 5s 104us/step - loss: 0.0034 - acc: 0.9991 - val_loss: 0.0239 - val_acc: 0.9937\n",
      "Epoch 79/100\n",
      "45000/45000 [==============================] - 5s 106us/step - loss: 0.0044 - acc: 0.9986 - val_loss: 0.0238 - val_acc: 0.9940\n",
      "Epoch 80/100\n",
      "45000/45000 [==============================] - 5s 100us/step - loss: 0.0040 - acc: 0.9988 - val_loss: 0.0239 - val_acc: 0.9941\n",
      "Epoch 81/100\n",
      "45000/45000 [==============================] - 5s 101us/step - loss: 0.0033 - acc: 0.9990 - val_loss: 0.0238 - val_acc: 0.9937\n",
      "Epoch 82/100\n",
      "45000/45000 [==============================] - 5s 102us/step - loss: 0.0039 - acc: 0.9987 - val_loss: 0.0238 - val_acc: 0.9937\n",
      "Epoch 83/100\n",
      "45000/45000 [==============================] - 5s 100us/step - loss: 0.0040 - acc: 0.9989 - val_loss: 0.0237 - val_acc: 0.9938\n",
      "Epoch 84/100\n",
      "45000/45000 [==============================] - 5s 103us/step - loss: 0.0039 - acc: 0.9988 - val_loss: 0.0236 - val_acc: 0.9939\n",
      "Epoch 85/100\n",
      "45000/45000 [==============================] - 5s 108us/step - loss: 0.0035 - acc: 0.9989 - val_loss: 0.0237 - val_acc: 0.9939\n",
      "Epoch 86/100\n",
      "45000/45000 [==============================] - 5s 101us/step - loss: 0.0041 - acc: 0.9987 - val_loss: 0.0237 - val_acc: 0.9937\n",
      "Epoch 87/100\n",
      "45000/45000 [==============================] - 4s 99us/step - loss: 0.0034 - acc: 0.9990 - val_loss: 0.0239 - val_acc: 0.9940\n",
      "Epoch 88/100\n",
      "45000/45000 [==============================] - 4s 96us/step - loss: 0.0038 - acc: 0.9989 - val_loss: 0.0239 - val_acc: 0.9937\n",
      "Epoch 89/100\n",
      "45000/45000 [==============================] - 5s 100us/step - loss: 0.0046 - acc: 0.9986 - val_loss: 0.0238 - val_acc: 0.9937\n",
      "Epoch 90/100\n",
      "45000/45000 [==============================] - 4s 100us/step - loss: 0.0040 - acc: 0.9986 - val_loss: 0.0240 - val_acc: 0.9939\n",
      "Epoch 91/100\n",
      "45000/45000 [==============================] - 5s 103us/step - loss: 0.0044 - acc: 0.9984 - val_loss: 0.0240 - val_acc: 0.9939\n",
      "Epoch 92/100\n",
      "45000/45000 [==============================] - 4s 100us/step - loss: 0.0034 - acc: 0.9989 - val_loss: 0.0236 - val_acc: 0.9941\n",
      "Epoch 93/100\n",
      "45000/45000 [==============================] - 5s 108us/step - loss: 0.0038 - acc: 0.9988 - val_loss: 0.0238 - val_acc: 0.9937\n",
      "Epoch 94/100\n",
      "45000/45000 [==============================] - 5s 108us/step - loss: 0.0044 - acc: 0.9986 - val_loss: 0.0239 - val_acc: 0.9941\n",
      "Epoch 95/100\n",
      "45000/45000 [==============================] - 5s 102us/step - loss: 0.0036 - acc: 0.9989 - val_loss: 0.0240 - val_acc: 0.9941\n",
      "Epoch 96/100\n",
      "45000/45000 [==============================] - 5s 104us/step - loss: 0.0041 - acc: 0.9988 - val_loss: 0.0238 - val_acc: 0.9939\n",
      "Epoch 97/100\n",
      "45000/45000 [==============================] - 4s 97us/step - loss: 0.0039 - acc: 0.9988 - val_loss: 0.0238 - val_acc: 0.9939\n",
      "Epoch 98/100\n",
      "45000/45000 [==============================] - 4s 97us/step - loss: 0.0045 - acc: 0.9986 - val_loss: 0.0240 - val_acc: 0.9939\n",
      "Epoch 99/100\n",
      "45000/45000 [==============================] - 5s 100us/step - loss: 0.0040 - acc: 0.9987 - val_loss: 0.0240 - val_acc: 0.9939\n",
      "Epoch 100/100\n",
      "45000/45000 [==============================] - 5s 101us/step - loss: 0.0034 - acc: 0.9989 - val_loss: 0.0238 - val_acc: 0.9939\n"
     ]
    }
   ],
   "source": [
    "history = model.fit(train_data , train_label , epochs=100 , batch_size=64,validation_data=[val_data,val_label],callbacks=[LR_function])"
   ]
  },
  {
   "cell_type": "code",
   "execution_count": 11,
   "metadata": {},
   "outputs": [
    {
     "name": "stdout",
     "output_type": "stream",
     "text": [
      "10000/10000 [==============================] - 1s 53us/step\n",
      "The Accuracy on Test Data = 0.9942\n"
     ]
    }
   ],
   "source": [
    "loss,acc=model.evaluate(test_data,test_label)\n",
    "print(f'The Accuracy on Test Data = {acc}')"
   ]
  },
  {
   "cell_type": "code",
   "execution_count": 12,
   "metadata": {},
   "outputs": [
    {
     "data": {
      "image/png": "[encoded data removed]",
      "text/plain": [
       "<Figure size 432x288 with 1 Axes>"
      ]
     },
     "metadata": {
      "needs_background": "light"
     },
     "output_type": "display_data"
    }
   ],
   "source": [
    "acc = history.history['acc']\n",
    "loss = history.history['loss']\n",
    "val_acc=history.history['val_acc']\n",
    "val_loss=history.history['val_loss']\n",
    "\n",
    "epochs=range(100)\n",
    "\n",
    "plt.plot(epochs,acc,'r-',label='Training Accuracy')\n",
    "plt.plot(epochs,val_acc,'b-',label='Validation Accuracy')\n",
    "plt.title('Training and Validation Accuracy')\n",
    "plt.legend()\n",
    "\n",
    "plt.show()"
   ]
  },
  {
   "cell_type": "code",
   "execution_count": 13,
   "metadata": {},
   "outputs": [
    {
     "data": {
      "image/png": "[encoded data removed]",
      "text/plain": [
       "<Figure size 432x288 with 1 Axes>"
      ]
     },
     "metadata": {
      "needs_background": "light"
     },
     "output_type": "display_data"
    }
   ],
   "source": [
    "plt.plot(epochs,loss,'r-',label='Training Loss')\n",
    "plt.plot(epochs,val_loss,'b-',label='Validation Loss')\n",
    "plt.title('Training and Validation Loss')\n",
    "plt.legend()\n",
    "\n",
    "plt.show()"
   ]
  },
  {
   "cell_type": "code",
   "execution_count": null,
   "metadata": {},
   "outputs": [],
   "source": []
  }
 ],
 "metadata": {
  "kernelspec": {
   "display_name": "Python 3",
   "language": "python",
   "name": "python3"
  },
  "language_info": {
   "codemirror_mode": {
    "name": "ipython",
    "version": 3
   },
   "file_extension": ".py",
   "mimetype": "text/x-python",
   "name": "python",
   "nbconvert_exporter": "python",
   "pygments_lexer": "ipython3",
   "version": "3.6.8"
  }
 },
 "nbformat": 4,
 "nbformat_minor": 2
}
